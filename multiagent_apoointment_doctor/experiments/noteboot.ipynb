{
 "cells": [
  {
   "cell_type": "code",
   "execution_count": 4,
   "id": "c83ecf62",
   "metadata": {},
   "outputs": [],
   "source": [
    "import re\n",
    "import pandas as pd\n",
    "from typing import  Literal,List,Any\n",
    "from langchain_core.tools import tool\n",
    "from langchain_groq import ChatGroq\n",
    "from langgraph.types import Command\n",
    "from langgraph.graph.message import add_messages\n",
    "from typing_extensions import TypedDict, Annotated\n",
    "from langchain_core.prompts.chat import ChatPromptTemplate\n",
    "from langgraph.graph import START, StateGraph,END\n",
    "from langgraph.prebuilt import create_react_agent\n",
    "from pydantic import BaseModel, Field, field_validator\n",
    "from langchain_core.messages import HumanMessage,AIMessage\n",
    "from langchain_openai import ChatOpenAI\n",
    "from dotenv import load_dotenv"
   ]
  },
  {
   "cell_type": "code",
   "execution_count": 5,
   "id": "8915c345",
   "metadata": {},
   "outputs": [
    {
     "data": {
      "text/plain": [
       "True"
      ]
     },
     "execution_count": 5,
     "metadata": {},
     "output_type": "execute_result"
    }
   ],
   "source": [
    "# import os\n",
    "# groq_api_key = os.getenv(\"GROQ_API_KEY\")  # ENV variable se le raha hai\n",
    "\n",
    "# groq_model = ChatGroq(\n",
    "#     model=\"deepseek-r1-distill-llama-70b\",\n",
    "#     api_key=groq_api_key  # Secure API key usage\n",
    "# )\n",
    "\n",
    "load_dotenv()"
   ]
  },
  {
   "cell_type": "code",
   "execution_count": null,
   "id": "56883c2b",
   "metadata": {},
   "outputs": [],
   "source": [
    "import os\n",
    "OPENAI_API_KEY=os.getenv(\"OPENAI_API_KEY\")\n",
    "os.environ[\"OPENAI_API_KEY\"]=OPENAI_API_KEY\n",
    "\n",
    "data_path = r\"C:\\Users\\ganes\\DataScience\\Gen_AI\\LangChain\\Course_GenAI\\Gen_AI_In-Depth\\Projects\\multiagent_apoointment_doctor\\data\\doctor_availability.csv\""
   ]
  },
  {
   "cell_type": "code",
   "execution_count": 26,
   "id": "c4091318",
   "metadata": {},
   "outputs": [
    {
     "data": {
      "text/html": [
       "<div>\n",
       "<style scoped>\n",
       "    .dataframe tbody tr th:only-of-type {\n",
       "        vertical-align: middle;\n",
       "    }\n",
       "\n",
       "    .dataframe tbody tr th {\n",
       "        vertical-align: top;\n",
       "    }\n",
       "\n",
       "    .dataframe thead th {\n",
       "        text-align: right;\n",
       "    }\n",
       "</style>\n",
       "<table border=\"1\" class=\"dataframe\">\n",
       "  <thead>\n",
       "    <tr style=\"text-align: right;\">\n",
       "      <th></th>\n",
       "      <th>date_slot</th>\n",
       "      <th>specialization</th>\n",
       "      <th>doctor_name</th>\n",
       "      <th>is_available</th>\n",
       "      <th>patient_to_attend</th>\n",
       "    </tr>\n",
       "  </thead>\n",
       "  <tbody>\n",
       "    <tr>\n",
       "      <th>0</th>\n",
       "      <td>05-08-2024 08:00</td>\n",
       "      <td>general_dentist</td>\n",
       "      <td>john doe</td>\n",
       "      <td>True</td>\n",
       "      <td>NaN</td>\n",
       "    </tr>\n",
       "    <tr>\n",
       "      <th>1</th>\n",
       "      <td>05-08-2024 08:30</td>\n",
       "      <td>general_dentist</td>\n",
       "      <td>john doe</td>\n",
       "      <td>False</td>\n",
       "      <td>1000082.0</td>\n",
       "    </tr>\n",
       "    <tr>\n",
       "      <th>2</th>\n",
       "      <td>05-08-2024 09:00</td>\n",
       "      <td>general_dentist</td>\n",
       "      <td>john doe</td>\n",
       "      <td>False</td>\n",
       "      <td>1000048.0</td>\n",
       "    </tr>\n",
       "    <tr>\n",
       "      <th>3</th>\n",
       "      <td>05-08-2024 09:30</td>\n",
       "      <td>general_dentist</td>\n",
       "      <td>john doe</td>\n",
       "      <td>False</td>\n",
       "      <td>1000036.0</td>\n",
       "    </tr>\n",
       "    <tr>\n",
       "      <th>4</th>\n",
       "      <td>05-08-2024 10:00</td>\n",
       "      <td>general_dentist</td>\n",
       "      <td>john doe</td>\n",
       "      <td>False</td>\n",
       "      <td>1000024.0</td>\n",
       "    </tr>\n",
       "  </tbody>\n",
       "</table>\n",
       "</div>"
      ],
      "text/plain": [
       "          date_slot   specialization doctor_name  is_available  \\\n",
       "0  05-08-2024 08:00  general_dentist    john doe          True   \n",
       "1  05-08-2024 08:30  general_dentist    john doe         False   \n",
       "2  05-08-2024 09:00  general_dentist    john doe         False   \n",
       "3  05-08-2024 09:30  general_dentist    john doe         False   \n",
       "4  05-08-2024 10:00  general_dentist    john doe         False   \n",
       "\n",
       "   patient_to_attend  \n",
       "0                NaN  \n",
       "1          1000082.0  \n",
       "2          1000048.0  \n",
       "3          1000036.0  \n",
       "4          1000024.0  "
      ]
     },
     "execution_count": 26,
     "metadata": {},
     "output_type": "execute_result"
    }
   ],
   "source": [
    "df = pd.read_csv(data_path)\n",
    "df.head()"
   ]
  },
  {
   "cell_type": "code",
   "execution_count": 7,
   "id": "e6c59eb0",
   "metadata": {},
   "outputs": [
    {
     "name": "stdout",
     "output_type": "stream",
     "text": [
      "I'm just an AI, so I don't have emotions or feelings like humans do. However, I'm functioning properly and ready to assist with any questions or tasks you may have. It's great to chat with you! What brings you here today?\n"
     ]
    }
   ],
   "source": [
    "import ollama\n",
    "\n",
    "response = ollama.chat(\n",
    "    model='llama3',\n",
    "    messages=[\n",
    "        {\"role\": \"user\", \"content\": \"Hello! How are you?\"}\n",
    "    ]\n",
    ")\n",
    "\n",
    "print(response['message']['content'])"
   ]
  },
  {
   "cell_type": "code",
   "execution_count": 8,
   "id": "c9de52ce",
   "metadata": {},
   "outputs": [
    {
     "name": "stdout",
     "output_type": "stream",
     "text": [
      "I'm just an AI, so I don't have feelings or emotions like humans do. However, I'm functioning properly and ready to assist with any questions or tasks you may have! How can I help you today?\n"
     ]
    }
   ],
   "source": [
    "# openai_model=ChatOpenAI(model=\"gpt-4o\")\n",
    "# openai_model.invoke(\"hi\")\n",
    "\n",
    "from langchain_ollama import ChatOllama\n",
    "ollama_model = ChatOllama(model=\"llama3\")\n",
    "\n",
    "llm = ollama_model.invoke(\"Hi, how are you?\")\n",
    "print(llm.content)"
   ]
  },
  {
   "cell_type": "code",
   "execution_count": 12,
   "id": "4a9fd1c6",
   "metadata": {},
   "outputs": [],
   "source": [
    "# This model is for validating date and time in the format 'DD-MM-YYYY HH:MM'\n",
    "class DateTimeModel(BaseModel):\n",
    "    date: str = Field(description=\"Properly formatted date\", pattern=r'^\\d{2}-\\d{2}-\\d{4} \\d{2}:\\d{2}$')\n",
    "\n",
    "    @field_validator(\"date\")\n",
    "    def check_format_date(cls, v):\n",
    "        if not re.match(r'^\\d{2}-\\d{2}-\\d{4} \\d{2}:\\d{2}$', v):  # Ensures 'DD-MM-YYYY HH:MM' format\n",
    "            raise ValueError(\"The date should be in format 'DD-MM-YYYY HH:MM'\")\n",
    "        return v"
   ]
  },
  {
   "cell_type": "code",
   "execution_count": 13,
   "id": "65c02c97",
   "metadata": {},
   "outputs": [],
   "source": [
    "# This model is for validating date input in the 'DD-MM-YYYY' format.\n",
    "class DateModel(BaseModel):\n",
    "    date: str = Field(description=\"Properly formatted date\", pattern=r'^\\d{2}-\\d{2}-\\d{4}$')\n",
    "\n",
    "    @field_validator(\"date\")\n",
    "    def check_format_date(cls, v):\n",
    "        if not re.match(r'^\\d{2}-\\d{2}-\\d{4}$', v):  # Ensures DD-MM-YYYY format\n",
    "            raise ValueError(\"The date must be in the format 'DD-MM-YYYY'\")\n",
    "        return v"
   ]
  },
  {
   "cell_type": "code",
   "execution_count": 14,
   "id": "2db18c1f",
   "metadata": {},
   "outputs": [],
   "source": [
    "# validating that the ID number is 7 or 8 digits long.\n",
    "class IdentificationNumberModel(BaseModel):\n",
    "    id: int = Field(description=\"Identification number (7 or 8 digits long)\")\n",
    "    @field_validator(\"id\")\n",
    "    def check_format_id(cls, v):\n",
    "        if not re.match(r'^\\d{7,8}$', str(v)):  # Convert to string before matching\n",
    "            raise ValueError(\"The ID number should be a 7 or 8-digit number\")\n",
    "        return v"
   ]
  },
  {
   "cell_type": "code",
   "execution_count": 15,
   "id": "8400a4fd",
   "metadata": {},
   "outputs": [
    {
     "data": {
      "text/html": [
       "<div>\n",
       "<style scoped>\n",
       "    .dataframe tbody tr th:only-of-type {\n",
       "        vertical-align: middle;\n",
       "    }\n",
       "\n",
       "    .dataframe tbody tr th {\n",
       "        vertical-align: top;\n",
       "    }\n",
       "\n",
       "    .dataframe thead th {\n",
       "        text-align: right;\n",
       "    }\n",
       "</style>\n",
       "<table border=\"1\" class=\"dataframe\">\n",
       "  <thead>\n",
       "    <tr style=\"text-align: right;\">\n",
       "      <th></th>\n",
       "      <th>date_slot</th>\n",
       "      <th>specialization</th>\n",
       "      <th>doctor_name</th>\n",
       "      <th>is_available</th>\n",
       "      <th>patient_to_attend</th>\n",
       "    </tr>\n",
       "  </thead>\n",
       "  <tbody>\n",
       "    <tr>\n",
       "      <th>0</th>\n",
       "      <td>05-08-2024 08:00</td>\n",
       "      <td>general_dentist</td>\n",
       "      <td>john doe</td>\n",
       "      <td>True</td>\n",
       "      <td>NaN</td>\n",
       "    </tr>\n",
       "    <tr>\n",
       "      <th>1</th>\n",
       "      <td>05-08-2024 08:30</td>\n",
       "      <td>general_dentist</td>\n",
       "      <td>john doe</td>\n",
       "      <td>False</td>\n",
       "      <td>1000082.0</td>\n",
       "    </tr>\n",
       "    <tr>\n",
       "      <th>2</th>\n",
       "      <td>05-08-2024 09:00</td>\n",
       "      <td>general_dentist</td>\n",
       "      <td>john doe</td>\n",
       "      <td>False</td>\n",
       "      <td>1000048.0</td>\n",
       "    </tr>\n",
       "    <tr>\n",
       "      <th>3</th>\n",
       "      <td>05-08-2024 09:30</td>\n",
       "      <td>general_dentist</td>\n",
       "      <td>john doe</td>\n",
       "      <td>False</td>\n",
       "      <td>1000036.0</td>\n",
       "    </tr>\n",
       "    <tr>\n",
       "      <th>4</th>\n",
       "      <td>05-08-2024 10:00</td>\n",
       "      <td>general_dentist</td>\n",
       "      <td>john doe</td>\n",
       "      <td>False</td>\n",
       "      <td>1000024.0</td>\n",
       "    </tr>\n",
       "  </tbody>\n",
       "</table>\n",
       "</div>"
      ],
      "text/plain": [
       "          date_slot   specialization doctor_name  is_available  \\\n",
       "0  05-08-2024 08:00  general_dentist    john doe          True   \n",
       "1  05-08-2024 08:30  general_dentist    john doe         False   \n",
       "2  05-08-2024 09:00  general_dentist    john doe         False   \n",
       "3  05-08-2024 09:30  general_dentist    john doe         False   \n",
       "4  05-08-2024 10:00  general_dentist    john doe         False   \n",
       "\n",
       "   patient_to_attend  \n",
       "0                NaN  \n",
       "1          1000082.0  \n",
       "2          1000048.0  \n",
       "3          1000036.0  \n",
       "4          1000024.0  "
      ]
     },
     "execution_count": 15,
     "metadata": {},
     "output_type": "execute_result"
    }
   ],
   "source": [
    "df = pd.read_csv(data_path)\n",
    "df.head()"
   ]
  },
  {
   "cell_type": "code",
   "execution_count": 22,
   "id": "f66a5869",
   "metadata": {},
   "outputs": [],
   "source": [
    "# This tool checks available time slots for a specific doctor on a given date.\n",
    "@tool\n",
    "def check_availability_by_doctor(desired_date:DateModel, doctor_name:Literal['kevin anderson','robert martinez','susan davis','daniel miller','sarah wilson','michael green','lisa brown','jane smith','emily johnson','john doe']):\n",
    "    \"\"\"\n",
    "    Checking the database if we have availability for the specific doctor.\n",
    "    The parameters should be mentioned by the user in the query\n",
    "    \"\"\"\n",
    "    df = pd.read_csv(data_path)\n",
    "    \n",
    "    #print(df)\n",
    "\n",
    "    # extracts the time part from the 'date_slot' column (which contains both date and time as a single string like '15-04-2025 14:30') \n",
    "    # and stores it in a new column called 'date_slot_time' = '14:30'\n",
    "    df['date_slot_time'] = df['date_slot'].apply(lambda input: input.split(' ')[-1])\n",
    "    # print(df)\n",
    "    \n",
    "    rows = list(df[ # Converts the result into a list of time strings\n",
    "    (df['date_slot'].apply(lambda input: input.split(' ')[0]) == desired_date.date) & # Extracts date part from date_slot column (e.g., '15-04-2025') and checks if it matches the desired_date(inpuut date)\n",
    "    (df['doctor_name'] == doctor_name) & # Checks if the doctor matches the requested doctor(input doctor)\n",
    "    (df['is_available'] == True) # Checks if the slot is marked as available i.e True\n",
    "    ]['date_slot_time']) #  Selects the corresponding time part of the matching rows\n",
    "\n",
    "    if len(rows) == 0:\n",
    "        output = \"No availability in the entire day\"\n",
    "    else:\n",
    "        output = f'The availability for {desired_date.date}\\n' # The availability for 15-04-2025\n",
    "        output += \"Available slots: \" + ', '.join(rows) # Available slots: 09:00, 14:30, 16:00\n",
    "\n",
    "    return output # a list of available time slots for a given doctor on a given date"
   ]
  },
  {
   "cell_type": "code",
   "execution_count": 23,
   "id": "9d2470d1",
   "metadata": {},
   "outputs": [
    {
     "name": "stdout",
     "output_type": "stream",
     "text": [
      "date='03-09-2024'\n"
     ]
    }
   ],
   "source": [
    "# Example usage:\n",
    "date_instance = DateModel(date=\"03-09-2024\")\n",
    "print(date_instance)"
   ]
  },
  {
   "cell_type": "code",
   "execution_count": 24,
   "id": "49039ae2",
   "metadata": {},
   "outputs": [
    {
     "name": "stdout",
     "output_type": "stream",
     "text": [
      "The availability for 03-09-2024\n",
      "Available slots: 08:00, 08:30, 11:30, 12:00, 12:30, 13:00, 14:00, 14:30, 15:00, 15:30, 16:00, 16:30\n"
     ]
    }
   ],
   "source": [
    "print(check_availability_by_doctor.invoke({\"desired_date\": date_instance, \"doctor_name\": \"kevin anderson\"}))"
   ]
  },
  {
   "cell_type": "code",
   "execution_count": null,
   "id": "0a9ae449",
   "metadata": {},
   "outputs": [],
   "source": [
    "@tool\n",
    "def check_availability_by_specialization(desired_date:DateModel, specialization:Literal[\"general_dentist\", \"cosmetic_dentist\", \"prosthodontist\", \"pediatric_dentist\",\"emergency_dentist\",\"oral_surgeon\",\"orthodontist\"]):\n",
    "    \"\"\"\n",
    "    Checking the database if we have availability for the specific specialization.\n",
    "    The parameters should be mentioned by the user in the query\n",
    "    \"\"\"\n",
    "    #Dummy data\n",
    "    df = pd.read_csv(data_path)\n",
    "    df['date_slot_time'] = df['date_slot'].apply(lambda input: input.split(' ')[-1])\n",
    "\n",
    "    rows = df[ # row = [\"orthodontist\", \"Dr. Emily\", [\"09:00\", \"14:30\"]]\n",
    "        (df['date_slot'].apply(lambda input: input.split(' ')[0]) == desired_date.date) & # Extracts date part from date_slot column (e.g., '15-04-2025') and checks if it matches the desired_date(inpuut date)\n",
    "        (df['specialization'] == specialization) & # Checks if the specialization matches the requested spcialization(input specialization)\n",
    "        (df['is_available'] == True) # Checks if the slot is marked as available i.e True\n",
    "        ].groupby(['specialization', 'doctor_name'])['date_slot_time'].apply(list).reset_index(name='available_slots')\n",
    "    #  groups the data by specialization and doctor_name and collects available time slots (date_slot_time) and aggregates into list\n",
    "\n",
    "    if len(rows) == 0:\n",
    "        output = \"No availability in the entire day\"\n",
    "    else:\n",
    "        def convert_to_am_pm(time_str):\n",
    "            # Split the time string into hours and minutes\n",
    "            time_str = str(time_str)\n",
    "\n",
    "            # time_str.split(\":\") Example: \"14:30\" → [\"14\", \"30\"] → convert to int[14, 30] and assing to hours(14) and minutes(30)\n",
    "            hours, minutes = map(int, time_str.split(\":\"))\n",
    "            # map() = It takes a function(int) and a sequence of values(time_str.split(\":\")), applies the function to each item in the sequence, and returns a map object\n",
    "            \n",
    "            # Determine AM or PM\n",
    "            period = \"AM\" if hours < 12 else \"PM\" # 00:00 to 11:59 → AM &&  12:00 to 23:59 → PM\n",
    "            \n",
    "            # Convert hours to 12-hour format\n",
    "            hours = hours % 12 or 12\n",
    "            \n",
    "            # Format the output\n",
    "            return f\"{hours}:{minutes:02d} {period}\" # 8:30 AM   hours(8):minutes(30) period(AM)\n",
    "        output = f'This availability for {desired_date.date}\\n'\n",
    "        for row in rows.values: # row[1]: The doctor's name. row[2]: available time slots (like [\"09:00\", \"14:30\"])\n",
    "            output += row[1] + \". Available slots: \\n\" + ', \\n'.join([convert_to_am_pm(value)for value in row[2]])+'\\n' # \"Dr. Emily. Available slots: \\n09:00 AM, \\n2:30 PM\\n\"\n",
    "\n",
    "    return output"
   ]
  },
  {
   "cell_type": "code",
   "execution_count": 54,
   "id": "45a08eab",
   "metadata": {},
   "outputs": [
    {
     "name": "stdout",
     "output_type": "stream",
     "text": [
      "date='03-09-2024'\n"
     ]
    }
   ],
   "source": [
    "# Example usage:\n",
    "date_instance = DateModel(date=\"03-09-2024\")\n",
    "print(date_instance)"
   ]
  },
  {
   "cell_type": "code",
   "execution_count": 55,
   "id": "fc946f1e",
   "metadata": {},
   "outputs": [
    {
     "name": "stdout",
     "output_type": "stream",
     "text": [
      "This availability for 03-09-2024\n",
      "kevin anderson. Available slots: \n",
      "8:00 AM, \n",
      "8:30 AM, \n",
      "11:30 AM, \n",
      "12:00 PM, \n",
      "12:30 PM, \n",
      "1:00 PM, \n",
      "2:00 PM, \n",
      "2:30 PM, \n",
      "3:00 PM, \n",
      "3:30 PM, \n",
      "4:00 PM, \n",
      "4:30 PM\n",
      "\n"
     ]
    }
   ],
   "source": [
    "print(check_availability_by_specialization.invoke({\"desired_date\": date_instance, \"specialization\": \"orthodontist\"}))"
   ]
  },
  {
   "cell_type": "code",
   "execution_count": 25,
   "id": "3e1de2ab",
   "metadata": {},
   "outputs": [
    {
     "data": {
      "text/html": [
       "<div>\n",
       "<style scoped>\n",
       "    .dataframe tbody tr th:only-of-type {\n",
       "        vertical-align: middle;\n",
       "    }\n",
       "\n",
       "    .dataframe tbody tr th {\n",
       "        vertical-align: top;\n",
       "    }\n",
       "\n",
       "    .dataframe thead th {\n",
       "        text-align: right;\n",
       "    }\n",
       "</style>\n",
       "<table border=\"1\" class=\"dataframe\">\n",
       "  <thead>\n",
       "    <tr style=\"text-align: right;\">\n",
       "      <th></th>\n",
       "      <th>date_slot</th>\n",
       "      <th>specialization</th>\n",
       "      <th>doctor_name</th>\n",
       "      <th>is_available</th>\n",
       "      <th>patient_to_attend</th>\n",
       "    </tr>\n",
       "  </thead>\n",
       "  <tbody>\n",
       "    <tr>\n",
       "      <th>0</th>\n",
       "      <td>05-08-2024 08:00</td>\n",
       "      <td>general_dentist</td>\n",
       "      <td>john doe</td>\n",
       "      <td>True</td>\n",
       "      <td>NaN</td>\n",
       "    </tr>\n",
       "    <tr>\n",
       "      <th>1</th>\n",
       "      <td>05-08-2024 08:30</td>\n",
       "      <td>general_dentist</td>\n",
       "      <td>john doe</td>\n",
       "      <td>False</td>\n",
       "      <td>1000082.0</td>\n",
       "    </tr>\n",
       "    <tr>\n",
       "      <th>2</th>\n",
       "      <td>05-08-2024 09:00</td>\n",
       "      <td>general_dentist</td>\n",
       "      <td>john doe</td>\n",
       "      <td>False</td>\n",
       "      <td>1000048.0</td>\n",
       "    </tr>\n",
       "    <tr>\n",
       "      <th>3</th>\n",
       "      <td>05-08-2024 09:30</td>\n",
       "      <td>general_dentist</td>\n",
       "      <td>john doe</td>\n",
       "      <td>False</td>\n",
       "      <td>1000036.0</td>\n",
       "    </tr>\n",
       "    <tr>\n",
       "      <th>4</th>\n",
       "      <td>05-08-2024 10:00</td>\n",
       "      <td>general_dentist</td>\n",
       "      <td>john doe</td>\n",
       "      <td>False</td>\n",
       "      <td>1000024.0</td>\n",
       "    </tr>\n",
       "  </tbody>\n",
       "</table>\n",
       "</div>"
      ],
      "text/plain": [
       "          date_slot   specialization doctor_name  is_available  \\\n",
       "0  05-08-2024 08:00  general_dentist    john doe          True   \n",
       "1  05-08-2024 08:30  general_dentist    john doe         False   \n",
       "2  05-08-2024 09:00  general_dentist    john doe         False   \n",
       "3  05-08-2024 09:30  general_dentist    john doe         False   \n",
       "4  05-08-2024 10:00  general_dentist    john doe         False   \n",
       "\n",
       "   patient_to_attend  \n",
       "0                NaN  \n",
       "1          1000082.0  \n",
       "2          1000048.0  \n",
       "3          1000036.0  \n",
       "4          1000024.0  "
      ]
     },
     "execution_count": 25,
     "metadata": {},
     "output_type": "execute_result"
    }
   ],
   "source": [
    "df.head()"
   ]
  },
  {
   "cell_type": "code",
   "execution_count": null,
   "id": "8caff47e",
   "metadata": {},
   "outputs": [],
   "source": [
    "## Tools For Booking agent\n",
    "@tool\n",
    "def reschedule_appointment(old_date:DateTimeModel, new_date:DateTimeModel, id_number:IdentificationNumberModel, doctor_name:Literal['kevin anderson','robert martinez','susan davis','daniel miller','sarah wilson','michael green','lisa brown','jane smith','emily johnson','john doe']):\n",
    "    \"\"\"\n",
    "    Rescheduling an appointment.\n",
    "    The parameters MUST be mentioned by the user in the query.\n",
    "    \"\"\"\n",
    "    #Dummy data\n",
    "    df = pd.read_csv(data_path)\n",
    "    available_for_desired_date = df[\n",
    "    (df['date_slot'] == new_date.date) & # Checks if the date and time match exactly with the user’s requested new_date\n",
    "    (df['is_available'] == True) & #  Ensures the slot is actually available.\n",
    "    (df['doctor_name'] == doctor_name) # Matches the specific doctor requested.\n",
    "]\n",
    "    if len(available_for_desired_date) == 0:\n",
    "        return \"Not available slots in the desired period\"\n",
    "    else:\n",
    "        cancel_appointment.invoke({'date':old_date, 'id_number':id_number, 'doctor_name':doctor_name}) # Cancel the old appointment for the same id_number (patient).\n",
    "        set_appointment.invoke({'desired_date':new_date, 'id_number': id_number, 'doctor_name': doctor_name}) # Book a new appointment with the same id_number, but at the new desired time and date.\n",
    "        return \"Successfully rescheduled for the desired time\""
   ]
  },
  {
   "cell_type": "code",
   "execution_count": 57,
   "id": "c9345ca4",
   "metadata": {},
   "outputs": [
    {
     "data": {
      "text/plain": [
       "DateTimeModel(date='05-08-2024 08:30')"
      ]
     },
     "execution_count": 57,
     "metadata": {},
     "output_type": "execute_result"
    }
   ],
   "source": [
    "Old_Date_Time = DateTimeModel(date=\"05-08-2024 08:30\")\n",
    "Old_Date_Time"
   ]
  },
  {
   "cell_type": "code",
   "execution_count": 58,
   "id": "0861afa2",
   "metadata": {},
   "outputs": [
    {
     "data": {
      "text/plain": [
       "DateTimeModel(date='28-03-2024 14:30')"
      ]
     },
     "execution_count": 58,
     "metadata": {},
     "output_type": "execute_result"
    }
   ],
   "source": [
    "New_Date_Time = DateTimeModel(date=\"28-03-2024 14:30\")\n",
    "New_Date_Time"
   ]
  },
  {
   "cell_type": "code",
   "execution_count": 59,
   "id": "cdfb555a",
   "metadata": {},
   "outputs": [
    {
     "data": {
      "text/plain": [
       "IdentificationNumberModel(id=1000082)"
      ]
     },
     "execution_count": 59,
     "metadata": {},
     "output_type": "execute_result"
    }
   ],
   "source": [
    "IDNumber = IdentificationNumberModel(id=1000082)\n",
    "IDNumber"
   ]
  },
  {
   "cell_type": "code",
   "execution_count": 60,
   "id": "d6d0a384",
   "metadata": {},
   "outputs": [
    {
     "name": "stdout",
     "output_type": "stream",
     "text": [
      "Not available slots in the desired period\n"
     ]
    }
   ],
   "source": [
    "print(reschedule_appointment.invoke({\"old_date\": Old_Date_Time,\"new_date\": New_Date_Time,\"id_number\":IDNumber, \"doctor_name\": \"kevin anderson\"}))"
   ]
  },
  {
   "cell_type": "code",
   "execution_count": null,
   "id": "872ce0a9",
   "metadata": {},
   "outputs": [],
   "source": [
    "@tool\n",
    "def cancel_appointment(date:DateTimeModel, id_number:IdentificationNumberModel, doctor_name:Literal['kevin anderson','robert martinez','susan davis','daniel miller','sarah wilson','michael green','lisa brown','jane smith','emily johnson','john doe']):\n",
    "    \"\"\"\n",
    "    Canceling an appointment.\n",
    "    The parameters MUST be mentioned by the user in the query.\n",
    "    \"\"\"\n",
    "    df = pd.read_csv(data_path)\n",
    "    case_to_remove = df[ # Find the appointment for this patient, with this doctor, at this exact date and time.\n",
    "    (df['date_slot'] == date.date) &                    # The appointment date and time matches the given date\n",
    "    (df['patient_to_attend'] == id_number.id) &         # The appointment is for the patient with the given ID\n",
    "    (df['doctor_name'] == doctor_name)                  # The appointment is with the specified doctor\n",
    "]\n",
    "    if len(case_to_remove) == 0:\n",
    "        return \"You don´t have any appointment with that specifications\"\n",
    "    else:\n",
    "        df.loc[ # Finds the exact appointment row using the date & time, the patient's ID and the doctor’s name\n",
    "    (df['date_slot'] == date.date) & \n",
    "    (df['patient_to_attend'] == id_number.id) & \n",
    "    (df['doctor_name'] == doctor_name), \n",
    "    ['is_available', 'patient_to_attend'] # Updates two columns for that row \n",
    "] = [True, None] # is_available → True → Marks the time slot as free and patient_to_attend → None → Removes the patient from that slot.\n",
    "        df.to_csv(data_path, index = False)\n",
    "\n",
    "        return \"Successfully cancelled\""
   ]
  },
  {
   "cell_type": "code",
   "execution_count": 62,
   "id": "7a57cce4",
   "metadata": {},
   "outputs": [
    {
     "data": {
      "text/plain": [
       "DateTimeModel(date='07-08-2024 08:30')"
      ]
     },
     "execution_count": 62,
     "metadata": {},
     "output_type": "execute_result"
    }
   ],
   "source": [
    "Date = DateTimeModel(date=\"07-08-2024 08:30\")\n",
    "Date"
   ]
  },
  {
   "cell_type": "code",
   "execution_count": 63,
   "id": "4b89306c",
   "metadata": {},
   "outputs": [
    {
     "data": {
      "text/plain": [
       "IdentificationNumberModel(id=1000097)"
      ]
     },
     "execution_count": 63,
     "metadata": {},
     "output_type": "execute_result"
    }
   ],
   "source": [
    "IDNumber = IdentificationNumberModel(id=1000097)\n",
    "IDNumber"
   ]
  },
  {
   "cell_type": "code",
   "execution_count": 64,
   "id": "b73dd592",
   "metadata": {},
   "outputs": [
    {
     "name": "stdout",
     "output_type": "stream",
     "text": [
      "You don´t have any appointment with that specifications\n"
     ]
    }
   ],
   "source": [
    "print(cancel_appointment.invoke({\"date\": Date,\"id_number\":IDNumber,\"doctor_name\":\"john doe\"}))"
   ]
  },
  {
   "cell_type": "code",
   "execution_count": null,
   "id": "fa26313d",
   "metadata": {},
   "outputs": [],
   "source": [
    "@tool\n",
    "def set_appointment(desired_date:DateTimeModel, id_number:IdentificationNumberModel, doctor_name:Literal['kevin anderson','robert martinez','susan davis','daniel miller','sarah wilson','michael green','lisa brown','jane smith','emily johnson','john doe']):\n",
    "    \"\"\"\n",
    "    Set appointment or slot with the doctor.\n",
    "    The parameters MUST be mentioned by the user in the query.\n",
    "    \"\"\"\n",
    "    df = pd.read_csv(data_path)\n",
    "   \n",
    "    from datetime import datetime\n",
    "    def convert_datetime_format(dt_str):\n",
    "        # Parse the input datetime string\n",
    "        #dt = datetime.strptime(dt_str, \"%Y-%m-%d %H:%M\")\n",
    "        dt = datetime.strptime(dt_str, \"%d-%m-%Y %H:%M\")\n",
    "        \n",
    "        # Format the output as 'DD-MM-YYYY H.M' (removing leading zero from hour only)\n",
    "        return dt.strftime(\"%d-%m-%Y %#H.%M\")\n",
    "    \n",
    "    case = df[(df['date_slot'] == convert_datetime_format(desired_date.date)) & # date_slot column in the DataFrame matches the desired date\n",
    "        (df['doctor_name'] == doctor_name) & # doctor_name matches the provided doctor_name\n",
    "        (df['is_available'] == True)] # only selecting rows where the is_available column is True\n",
    "    \n",
    "    if len(case) == 0:\n",
    "        return \"No available appointments for that particular case\"\n",
    "    else:\n",
    "        df.loc[(df['date_slot'] == convert_datetime_format(desired_date.date)) & # find rows where the date_slot column matches the desired date\n",
    "                (df['doctor_name'] == doctor_name) & #  filters the rows to match the specified doctor_name\n",
    "                (df['is_available'] == True), ['is_available', 'patient_to_attend']] = [False, id_number.id]\n",
    "                # only rows where the doctor is available (i.e., is_available is True) are selected\n",
    "                # False will be assigned to the is_available column, marking the slot as unavailable\n",
    "                # id_number.id will be assigned to the patient_to_attend column, indicating the ID of the patient who is now scheduled for the appointment\n",
    "\n",
    "        df.to_csv(data_path, index = False)\n",
    "\n",
    "        return \"Succesfully done\""
   ]
  },
  {
   "cell_type": "code",
   "execution_count": 66,
   "id": "60778750",
   "metadata": {},
   "outputs": [
    {
     "data": {
      "text/plain": [
       "DateTimeModel(date='07-08-2024 08:30')"
      ]
     },
     "execution_count": 66,
     "metadata": {},
     "output_type": "execute_result"
    }
   ],
   "source": [
    "Date = DateTimeModel(date=\"07-08-2024 08:30\")\n",
    "Date"
   ]
  },
  {
   "cell_type": "code",
   "execution_count": 67,
   "id": "3788198e",
   "metadata": {},
   "outputs": [
    {
     "data": {
      "text/plain": [
       "IdentificationNumberModel(id=1000097)"
      ]
     },
     "execution_count": 67,
     "metadata": {},
     "output_type": "execute_result"
    }
   ],
   "source": [
    "IDNumber = IdentificationNumberModel(id=1000097)\n",
    "IDNumber    "
   ]
  },
  {
   "cell_type": "code",
   "execution_count": 68,
   "id": "fee5adf1",
   "metadata": {},
   "outputs": [
    {
     "name": "stdout",
     "output_type": "stream",
     "text": [
      "No available appointments for that particular case\n"
     ]
    }
   ],
   "source": [
    "print(set_appointment.invoke({\"desired_date\":Date,\"id_number\":IDNumber,\"doctor_name\":\"john doe\"}))"
   ]
  },
  {
   "cell_type": "code",
   "execution_count": null,
   "id": "2bb29fb0",
   "metadata": {},
   "outputs": [],
   "source": [
    "# defines a class called Router that inherits from TypedDict\n",
    "class Router(TypedDict): # TypedDict is used to define a dictionary with a fixed set of keys, each having a specific type. It helps to describe a dictionary with predefined keys and their corresponding value types\n",
    "    next: Literal[\"information_node\",\"booking_node\",\"FINISH\"] # The value must be one of the following: \"information_node\", \"booking_node\", or \"FINISH\".\n",
    "    reasoning: str # the value must be string"
   ]
  },
  {
   "cell_type": "code",
   "execution_count": null,
   "id": "29d36918",
   "metadata": {},
   "outputs": [],
   "source": [
    "class AgentState(TypedDict):\n",
    "    messages: Annotated[list[Any], add_messages] # stores a list of messages and  any contains the full chat history, including user query and add_messages  provide additional metadata or behavior for how messages are handled\n",
    "    id_number: int\n",
    "    next:str\n",
    "    query: str # stores just the extracted user query text (as a plain string)\n",
    "    current_reasoning: str"
   ]
  },
  {
   "cell_type": "code",
   "execution_count": 71,
   "id": "befd172d",
   "metadata": {},
   "outputs": [
    {
     "data": {
      "text/plain": [
       "{'information_node': 'specialized agent to provide information related to availability of doctors or any FAQs related to hospital.',\n",
       " 'booking_node': 'specialized agent to only to book, cancel or reschedule appointment'}"
      ]
     },
     "execution_count": 71,
     "metadata": {},
     "output_type": "execute_result"
    }
   ],
   "source": [
    "members_dict = {'information_node':'specialized agent to provide information related to availability of doctors or any FAQs related to hospital.','booking_node':'specialized agent to only to book, cancel or reschedule appointment'}\n",
    "members_dict"
   ]
  },
  {
   "cell_type": "code",
   "execution_count": null,
   "id": "40ff3262",
   "metadata": {},
   "outputs": [
    {
     "data": {
      "text/plain": [
       "['information_node', 'booking_node', 'FINISH']"
      ]
     },
     "execution_count": 72,
     "metadata": {},
     "output_type": "execute_result"
    }
   ],
   "source": [
    "# accesses the keys of the members_dict dictionary and  concatenates the list of keys  with a new list containing the string \"FINISH\"\n",
    "# members_dict = {\"a\": 1, \"b\": 2, \"c\": 3}\n",
    "# output = ['a', 'b', 'c', 'FINISH']\n",
    "options = list(members_dict.keys()) + [\"FINISH\"]\n",
    "options"
   ]
  },
  {
   "cell_type": "code",
   "execution_count": 73,
   "id": "1c359458",
   "metadata": {},
   "outputs": [
    {
     "name": "stdout",
     "output_type": "stream",
     "text": [
      "WORKER: information_node \n",
      "DESCRIPTION: specialized agent to provide information related to availability of doctors or any FAQs related to hospital.\n",
      "\n",
      "WORKER: booking_node \n",
      "DESCRIPTION: specialized agent to only to book, cancel or reschedule appointment\n",
      "\n",
      "WORKER: FINISH \n",
      "DESCRIPTION: If User Query is answered and route to Finished\n"
     ]
    }
   ],
   "source": [
    "worker_info = '\\n\\n'.join([f'WORKER: {member} \\nDESCRIPTION: {description}' for member, description in members_dict.items()]) + '\\n\\nWORKER: FINISH \\nDESCRIPTION: If User Query is answered and route to Finished'\n",
    "print(worker_info)"
   ]
  },
  {
   "cell_type": "code",
   "execution_count": 74,
   "id": "0a3e128b",
   "metadata": {},
   "outputs": [
    {
     "name": "stdout",
     "output_type": "stream",
     "text": [
      "You are a supervisor tasked with managing a conversation between following workers. ### SPECIALIZED ASSISTANT:\n",
      "WORKER: information_node \n",
      "DESCRIPTION: specialized agent to provide information related to availability of doctors or any FAQs related to hospital.\n",
      "\n",
      "WORKER: booking_node \n",
      "DESCRIPTION: specialized agent to only to book, cancel or reschedule appointment\n",
      "\n",
      "WORKER: FINISH \n",
      "DESCRIPTION: If User Query is answered and route to Finished\n",
      "\n",
      "Your primary role is to help the user make an appointment with the doctor and provide updates on FAQs and doctor's availability. If a customer requests to know the availability of a doctor or to book, reschedule, or cancel an appointment, delegate the task to the appropriate specialized workers. Given the following user request, respond with the worker to act next. Each worker will perform a task and respond with their results and status. When finished, respond with FINISH.UTILIZE last conversation to assess if the conversation should end you answered the query, then route to FINISH \n"
     ]
    }
   ],
   "source": [
    "system_prompt = (\n",
    "    \"You are a supervisor tasked with managing a conversation between following workers. \"\n",
    "    \"### SPECIALIZED ASSISTANT:\\n\"\n",
    "    f\"{worker_info}\\n\\n\"\n",
    "    \"Your primary role is to help the user make an appointment with the doctor and provide updates on FAQs and doctor's availability. \"\n",
    "    \"If a customer requests to know the availability of a doctor or to book, reschedule, or cancel an appointment, \"\n",
    "    \"delegate the task to the appropriate specialized workers. Given the following user request,\"\n",
    "    \" respond with the worker to act next. Each worker will perform a\"\n",
    "    \" task and respond with their results and status. When finished,\"\n",
    "    \" respond with FINISH.\"\n",
    "    \"UTILIZE last conversation to assess if the conversation should end you answered the query, then route to FINISH \"\n",
    "     )\n",
    "\n",
    "print(system_prompt)"
   ]
  },
  {
   "cell_type": "code",
   "execution_count": null,
   "id": "9841ceee",
   "metadata": {},
   "outputs": [],
   "source": [
    "# here state:AgentState=> it is just a distionary which is just flowing through different nodes in langgraph.\n",
    "# command[Literal[\"Send task to information_node, or send task to booking_node OR End process (\"__end__\")\"]]\n",
    "def supervisor_node(state: AgentState) -> Command[Literal['information_node', 'booking_node', '__end__']]:\n",
    "    print(\"************************** Below is my state right after entering ****************************\")\n",
    "    print(state)\n",
    "\n",
    "    messages = [\n",
    "        {\"role\": \"system\", \"content\": system_prompt}, # here are the instructions for the model\n",
    "        {\"role\": \"user\", \"content\": f\"user's identification number is {state['id_number']}\"} # here's who the user is\n",
    "    ] + state[\"messages\"] #  here's what user asked\n",
    "\n",
    "    print(\"************************ This is my message ************************\")\n",
    "    print(messages)\n",
    "\n",
    "    query = ''\n",
    "    if len(state['messages']) == 1: # this mean When the user sends a single message at a time, the condition becomes true.\n",
    "        query = state['messages'][0].content # extracts the content of that message and assigns it to query (messages: Annotated[list[Any], add_messages])\n",
    "\n",
    "    print(\"************************ Below is my query ************************\")\n",
    "    print(query)\n",
    "\n",
    "    response = openai_model.with_structured_output(Router).invoke(messages) # to know what to do next\n",
    "    # response = ollama_model.with_structured_output(Router).invoke(messages)\n",
    "\n",
    "    # {  this type of response will be generated\n",
    "    #  \"next\": \"booking_node\",\n",
    "    #  \"reasoning\": \"Because the user wants to book an appointment\"\n",
    "    # }\n",
    "\n",
    "    goto = response[\"next\"]\n",
    "\n",
    "    print(\"************************ This is my goto ************************\")\n",
    "    print(goto)\n",
    "    print(\"*****************************************************************\")\n",
    "    print(response[\"reasoning\"])\n",
    "\n",
    "    if goto == \"FINISH\":\n",
    "        goto = END\n",
    "\n",
    "    print(\"************************** Below is my state ****************************\")\n",
    "    print(state)\n",
    "\n",
    "    if query:\n",
    "        return Command( # Command part of LangGraph framework that tells here's the next node to go to, and here’s how to update the state.\n",
    "            goto=goto, # next node to go\n",
    "            update={ # update the information is AgentState class\n",
    "                'next': goto,\n",
    "                'query': query, # the user’s latest query\n",
    "                'current_reasoning': response[\"reasoning\"], # the reasoning for the decision,\n",
    "                'messages': [\n",
    "                    HumanMessage(content=f\"user's identification number is {state['id_number']}\") # and just a simple message with their ID.\n",
    "                ]\n",
    "            }\n",
    "        )\n",
    "\n",
    "    return Command( # if no user query then update AgentState\n",
    "        goto=goto,\n",
    "        update={\n",
    "            'next': goto,\n",
    "            'current_reasoning': response[\"reasoning\"]\n",
    "        }\n",
    "    )"
   ]
  },
  {
   "cell_type": "code",
   "execution_count": null,
   "id": "b79996df",
   "metadata": {},
   "outputs": [],
   "source": [
    "def information_node(state:AgentState) -> Command[Literal['supervisor']]:\n",
    "    print(\"*****************called information node************\")\n",
    "    \n",
    "    system_prompt = \"You are specialized agent to provide information related to availability of doctors or any FAQs related to hospital based on the query. You have access to the tool.\\n Make sure to ask user politely if you need any further information to execute the tool.\\n For your information, Always consider current year is 2024.\"\n",
    "    \n",
    "    system_prompt = ChatPromptTemplate.from_messages(\n",
    "            [\n",
    "                (\n",
    "                    \"system\",\n",
    "                    system_prompt\n",
    "                ),\n",
    "                (\n",
    "                    \"placeholder\", \n",
    "                    \"{messages}\" # messages here will come from the state[\"messages\"]\n",
    "                ),\n",
    "            ]\n",
    "        )\n",
    "    \n",
    "    information_agent = create_react_agent(model=openai_model,tools=[check_availability_by_doctor,check_availability_by_specialization] ,prompt=system_prompt)\n",
    "    # information_agent = create_react_agent(model=ollama_model,tools=[check_availability_by_doctor,check_availability_by_specialization] ,prompt=system_prompt)\n",
    "    \n",
    "    result = information_agent.invoke(state)\n",
    "    \n",
    "    return Command(\n",
    "        update={ # again set the update in AgentState\n",
    "            \"messages\": state[\"messages\"] + [\n",
    "                AIMessage(content=result[\"messages\"][-1].content, name=\"information_node\")\n",
    "                #HumanMessage(content=result[\"messages\"][-1].content, name=\"information_node\")\n",
    "            ]\n",
    "        },\n",
    "        goto=\"supervisor\", # again return back to supervisor node\n",
    "    )"
   ]
  },
  {
   "cell_type": "code",
   "execution_count": 77,
   "id": "fa2bfcb3",
   "metadata": {},
   "outputs": [],
   "source": [
    "def booking_node(state:AgentState) ->  Command[Literal['supervisor']]:\n",
    "    \n",
    "    print(\"*****************called booking node************\")\n",
    "    \n",
    "    system_prompt = \"You are specialized agent to set, cancel or reschedule appointment based on the query. You have access to the tool.\\n Make sure to ask user politely if you need any further information to execute the tool.\\n For your information, Always consider current year is 2024.\"\n",
    "    \n",
    "    system_prompt = ChatPromptTemplate.from_messages(\n",
    "            [\n",
    "                (\n",
    "                    \"system\",\n",
    "                    system_prompt\n",
    "                ),\n",
    "                (\n",
    "                    \"placeholder\", \n",
    "                    \"{messages}\"\n",
    "                ),\n",
    "            ]\n",
    "        )\n",
    "    # booking_agent = create_react_agent(model=openai_model,tools=[set_appointment,cancel_appointment,reschedule_appointment],prompt=system_prompt)\n",
    "    booking_agent = create_react_agent(model=ollama_model,tools=[set_appointment,cancel_appointment,reschedule_appointment],prompt=system_prompt)\n",
    "\n",
    "    result = booking_agent.invoke(state)\n",
    "    \n",
    "    return Command(\n",
    "        update={\n",
    "            \"messages\": state[\"messages\"] + [\n",
    "                AIMessage(content=result[\"messages\"][-1].content, name=\"booking_node\")\n",
    "                #HumanMessage(content=result[\"messages\"][-1].content, name=\"booking_node\")\n",
    "            ]\n",
    "        },\n",
    "        goto=\"supervisor\",\n",
    "    )"
   ]
  },
  {
   "cell_type": "code",
   "execution_count": null,
   "id": "edfe69ef",
   "metadata": {},
   "outputs": [],
   "source": [
    "# StateGraph is part of LangChain’s graph-based agent framework. It helps build complex workflows\n",
    "# AgentState track the conversation messages as the agent makes decisions\n",
    "graph = StateGraph(AgentState)\n",
    "graph.add_node(\"supervisor\", supervisor_node) # supervisor node in graph\n",
    "graph.add_node(\"information_node\", information_node) # node for informatin_node\n",
    "graph.add_node(\"booking_node\", booking_node) # node for booking_node\n",
    "graph.add_edge(START, \"supervisor\") # start node is connected to supervisor node\n",
    "app = graph.compile()"
   ]
  },
  {
   "cell_type": "code",
   "execution_count": 79,
   "id": "d57a9eb6",
   "metadata": {},
   "outputs": [
    {
     "name": "stdout",
     "output_type": "stream",
     "text": [
      "Graph(nodes={'__start__': Node(id='__start__', name='__start__', data=<class 'langchain_core.utils.pydantic.LangGraphInput'>, metadata=None), 'supervisor': Node(id='supervisor', name='supervisor', data=supervisor(tags=None, recurse=True, explode_args=False, func_accepts_config=False, func_accepts={}), metadata=None), 'information_node': Node(id='information_node', name='information_node', data=information_node(tags=None, recurse=True, explode_args=False, func_accepts_config=False, func_accepts={}), metadata=None), 'booking_node': Node(id='booking_node', name='booking_node', data=booking_node(tags=None, recurse=True, explode_args=False, func_accepts_config=False, func_accepts={}), metadata=None), '__end__': Node(id='__end__', name='__end__', data=<class 'langchain_core.utils.pydantic.LangGraphOutput'>, metadata=None)}, edges=[Edge(source='__start__', target='supervisor', data=None, conditional=False), Edge(source='supervisor', target='information_node', data=None, conditional=True), Edge(source='supervisor', target='booking_node', data=None, conditional=True), Edge(source='supervisor', target='__end__', data=None, conditional=True), Edge(source='information_node', target='supervisor', data=None, conditional=True), Edge(source='booking_node', target='supervisor', data=None, conditional=True)])\n"
     ]
    }
   ],
   "source": [
    "import langgraph\n",
    "\n",
    "graph = app.get_graph()\n",
    "print(graph)"
   ]
  },
  {
   "cell_type": "code",
   "execution_count": 80,
   "id": "6b444a06",
   "metadata": {},
   "outputs": [
    {
     "data": {
      "image/png": "[encoded data removed]",
      "text/plain": [
       "<IPython.core.display.Image object>"
      ]
     },
     "metadata": {},
     "output_type": "display_data"
    }
   ],
   "source": [
    "from IPython.display import Image, display\n",
    "display(Image(app.get_graph().draw_mermaid_png()))"
   ]
  },
  {
   "cell_type": "code",
   "execution_count": 82,
   "id": "ea6677df",
   "metadata": {},
   "outputs": [
    {
     "name": "stdout",
     "output_type": "stream",
     "text": [
      "************************** Below is my state right after entering ****************************\n",
      "{'messages': [HumanMessage(content='can you check and make a booking if general dentist available on 8 August 2024 at 8 PM?', additional_kwargs={}, response_metadata={}, id='68f1ba6a-2b43-47aa-8464-c20528f3292d')], 'id_number': 10232303}\n",
      "************************ This is my message ************************\n",
      "[{'role': 'system', 'content': \"You are a supervisor tasked with managing a conversation between following workers. ### SPECIALIZED ASSISTANT:\\nWORKER: information_node \\nDESCRIPTION: specialized agent to provide information related to availability of doctors or any FAQs related to hospital.\\n\\nWORKER: booking_node \\nDESCRIPTION: specialized agent to only to book, cancel or reschedule appointment\\n\\nWORKER: FINISH \\nDESCRIPTION: If User Query is answered and route to Finished\\n\\nYour primary role is to help the user make an appointment with the doctor and provide updates on FAQs and doctor's availability. If a customer requests to know the availability of a doctor or to book, reschedule, or cancel an appointment, delegate the task to the appropriate specialized workers. Given the following user request, respond with the worker to act next. Each worker will perform a task and respond with their results and status. When finished, respond with FINISH.UTILIZE last conversation to assess if the conversation should end you answered the query, then route to FINISH \"}, {'role': 'user', 'content': \"user's identification number is 10232303\"}, HumanMessage(content='can you check and make a booking if general dentist available on 8 August 2024 at 8 PM?', additional_kwargs={}, response_metadata={}, id='68f1ba6a-2b43-47aa-8464-c20528f3292d')]\n",
      "************************ Below is my query ************************\n",
      "can you check and make a booking if general dentist available on 8 August 2024 at 8 PM?\n"
     ]
    },
    {
     "ename": "NotImplementedError",
     "evalue": "",
     "output_type": "error",
     "traceback": [
      "\u001b[1;31m---------------------------------------------------------------------------\u001b[0m",
      "\u001b[1;31mNotImplementedError\u001b[0m                       Traceback (most recent call last)",
      "Cell \u001b[1;32mIn[82], line 5\u001b[0m\n\u001b[0;32m      1\u001b[0m inputs \u001b[38;5;241m=\u001b[39m [\n\u001b[0;32m      2\u001b[0m         HumanMessage(content\u001b[38;5;241m=\u001b[39m\u001b[38;5;124m'\u001b[39m\u001b[38;5;124mcan you check and make a booking if general dentist available on 8 August 2024 at 8 PM?\u001b[39m\u001b[38;5;124m'\u001b[39m)\n\u001b[0;32m      3\u001b[0m     ]\n\u001b[0;32m      4\u001b[0m state \u001b[38;5;241m=\u001b[39m {\u001b[38;5;124m'\u001b[39m\u001b[38;5;124mmessages\u001b[39m\u001b[38;5;124m'\u001b[39m: inputs,\u001b[38;5;124m'\u001b[39m\u001b[38;5;124mid_number\u001b[39m\u001b[38;5;124m'\u001b[39m:\u001b[38;5;241m10232303\u001b[39m}\n\u001b[1;32m----> 5\u001b[0m result \u001b[38;5;241m=\u001b[39m \u001b[43mapp\u001b[49m\u001b[38;5;241;43m.\u001b[39;49m\u001b[43minvoke\u001b[49m\u001b[43m(\u001b[49m\u001b[43mstate\u001b[49m\u001b[43m)\u001b[49m\n\u001b[0;32m      6\u001b[0m result[\u001b[38;5;124m\"\u001b[39m\u001b[38;5;124mmessages\u001b[39m\u001b[38;5;124m\"\u001b[39m][\u001b[38;5;241m-\u001b[39m\u001b[38;5;241m1\u001b[39m]\u001b[38;5;241m.\u001b[39mcontent\n",
      "File \u001b[1;32mc:\\Users\\ganes\\DataScience\\Gen_AI\\LangChain\\Course_GenAI\\Gen_AI_In-Depth\\Projects\\multiagent_apoointment_doctor\\venv\\Lib\\site-packages\\langgraph\\pregel\\__init__.py:2069\u001b[0m, in \u001b[0;36mPregel.invoke\u001b[1;34m(self, input, config, stream_mode, output_keys, interrupt_before, interrupt_after, debug, **kwargs)\u001b[0m\n\u001b[0;32m   2067\u001b[0m \u001b[38;5;28;01melse\u001b[39;00m:\n\u001b[0;32m   2068\u001b[0m     chunks \u001b[38;5;241m=\u001b[39m []\n\u001b[1;32m-> 2069\u001b[0m \u001b[43m\u001b[49m\u001b[38;5;28;43;01mfor\u001b[39;49;00m\u001b[43m \u001b[49m\u001b[43mchunk\u001b[49m\u001b[43m \u001b[49m\u001b[38;5;129;43;01min\u001b[39;49;00m\u001b[43m \u001b[49m\u001b[38;5;28;43mself\u001b[39;49m\u001b[38;5;241;43m.\u001b[39;49m\u001b[43mstream\u001b[49m\u001b[43m(\u001b[49m\n\u001b[0;32m   2070\u001b[0m \u001b[43m    \u001b[49m\u001b[38;5;28;43minput\u001b[39;49m\u001b[43m,\u001b[49m\n\u001b[0;32m   2071\u001b[0m \u001b[43m    \u001b[49m\u001b[43mconfig\u001b[49m\u001b[43m,\u001b[49m\n\u001b[0;32m   2072\u001b[0m \u001b[43m    \u001b[49m\u001b[43mstream_mode\u001b[49m\u001b[38;5;241;43m=\u001b[39;49m\u001b[43mstream_mode\u001b[49m\u001b[43m,\u001b[49m\n\u001b[0;32m   2073\u001b[0m \u001b[43m    \u001b[49m\u001b[43moutput_keys\u001b[49m\u001b[38;5;241;43m=\u001b[39;49m\u001b[43moutput_keys\u001b[49m\u001b[43m,\u001b[49m\n\u001b[0;32m   2074\u001b[0m \u001b[43m    \u001b[49m\u001b[43minterrupt_before\u001b[49m\u001b[38;5;241;43m=\u001b[39;49m\u001b[43minterrupt_before\u001b[49m\u001b[43m,\u001b[49m\n\u001b[0;32m   2075\u001b[0m \u001b[43m    \u001b[49m\u001b[43minterrupt_after\u001b[49m\u001b[38;5;241;43m=\u001b[39;49m\u001b[43minterrupt_after\u001b[49m\u001b[43m,\u001b[49m\n\u001b[0;32m   2076\u001b[0m \u001b[43m    \u001b[49m\u001b[43mdebug\u001b[49m\u001b[38;5;241;43m=\u001b[39;49m\u001b[43mdebug\u001b[49m\u001b[43m,\u001b[49m\n\u001b[0;32m   2077\u001b[0m \u001b[43m    \u001b[49m\u001b[38;5;241;43m*\u001b[39;49m\u001b[38;5;241;43m*\u001b[39;49m\u001b[43mkwargs\u001b[49m\u001b[43m,\u001b[49m\n\u001b[0;32m   2078\u001b[0m \u001b[43m\u001b[49m\u001b[43m)\u001b[49m\u001b[43m:\u001b[49m\n\u001b[0;32m   2079\u001b[0m \u001b[43m    \u001b[49m\u001b[38;5;28;43;01mif\u001b[39;49;00m\u001b[43m \u001b[49m\u001b[43mstream_mode\u001b[49m\u001b[43m \u001b[49m\u001b[38;5;241;43m==\u001b[39;49m\u001b[43m \u001b[49m\u001b[38;5;124;43m\"\u001b[39;49m\u001b[38;5;124;43mvalues\u001b[39;49m\u001b[38;5;124;43m\"\u001b[39;49m\u001b[43m:\u001b[49m\n\u001b[0;32m   2080\u001b[0m \u001b[43m        \u001b[49m\u001b[43mlatest\u001b[49m\u001b[43m \u001b[49m\u001b[38;5;241;43m=\u001b[39;49m\u001b[43m \u001b[49m\u001b[43mchunk\u001b[49m\n",
      "File \u001b[1;32mc:\\Users\\ganes\\DataScience\\Gen_AI\\LangChain\\Course_GenAI\\Gen_AI_In-Depth\\Projects\\multiagent_apoointment_doctor\\venv\\Lib\\site-packages\\langgraph\\pregel\\__init__.py:1724\u001b[0m, in \u001b[0;36mPregel.stream\u001b[1;34m(self, input, config, stream_mode, output_keys, interrupt_before, interrupt_after, debug, subgraphs)\u001b[0m\n\u001b[0;32m   1718\u001b[0m     \u001b[38;5;66;03m# Similarly to Bulk Synchronous Parallel / Pregel model\u001b[39;00m\n\u001b[0;32m   1719\u001b[0m     \u001b[38;5;66;03m# computation proceeds in steps, while there are channel updates.\u001b[39;00m\n\u001b[0;32m   1720\u001b[0m     \u001b[38;5;66;03m# Channel updates from step N are only visible in step N+1\u001b[39;00m\n\u001b[0;32m   1721\u001b[0m     \u001b[38;5;66;03m# channels are guaranteed to be immutable for the duration of the step,\u001b[39;00m\n\u001b[0;32m   1722\u001b[0m     \u001b[38;5;66;03m# with channel updates applied only at the transition between steps.\u001b[39;00m\n\u001b[0;32m   1723\u001b[0m     \u001b[38;5;28;01mwhile\u001b[39;00m loop\u001b[38;5;241m.\u001b[39mtick(input_keys\u001b[38;5;241m=\u001b[39m\u001b[38;5;28mself\u001b[39m\u001b[38;5;241m.\u001b[39minput_channels):\n\u001b[1;32m-> 1724\u001b[0m \u001b[43m        \u001b[49m\u001b[38;5;28;43;01mfor\u001b[39;49;00m\u001b[43m \u001b[49m\u001b[43m_\u001b[49m\u001b[43m \u001b[49m\u001b[38;5;129;43;01min\u001b[39;49;00m\u001b[43m \u001b[49m\u001b[43mrunner\u001b[49m\u001b[38;5;241;43m.\u001b[39;49m\u001b[43mtick\u001b[49m\u001b[43m(\u001b[49m\n\u001b[0;32m   1725\u001b[0m \u001b[43m            \u001b[49m\u001b[43mloop\u001b[49m\u001b[38;5;241;43m.\u001b[39;49m\u001b[43mtasks\u001b[49m\u001b[38;5;241;43m.\u001b[39;49m\u001b[43mvalues\u001b[49m\u001b[43m(\u001b[49m\u001b[43m)\u001b[49m\u001b[43m,\u001b[49m\n\u001b[0;32m   1726\u001b[0m \u001b[43m            \u001b[49m\u001b[43mtimeout\u001b[49m\u001b[38;5;241;43m=\u001b[39;49m\u001b[38;5;28;43mself\u001b[39;49m\u001b[38;5;241;43m.\u001b[39;49m\u001b[43mstep_timeout\u001b[49m\u001b[43m,\u001b[49m\n\u001b[0;32m   1727\u001b[0m \u001b[43m            \u001b[49m\u001b[43mretry_policy\u001b[49m\u001b[38;5;241;43m=\u001b[39;49m\u001b[38;5;28;43mself\u001b[39;49m\u001b[38;5;241;43m.\u001b[39;49m\u001b[43mretry_policy\u001b[49m\u001b[43m,\u001b[49m\n\u001b[0;32m   1728\u001b[0m \u001b[43m            \u001b[49m\u001b[43mget_waiter\u001b[49m\u001b[38;5;241;43m=\u001b[39;49m\u001b[43mget_waiter\u001b[49m\u001b[43m,\u001b[49m\n\u001b[0;32m   1729\u001b[0m \u001b[43m        \u001b[49m\u001b[43m)\u001b[49m\u001b[43m:\u001b[49m\n\u001b[0;32m   1730\u001b[0m \u001b[43m            \u001b[49m\u001b[38;5;66;43;03m# emit output\u001b[39;49;00m\n\u001b[0;32m   1731\u001b[0m \u001b[43m            \u001b[49m\u001b[38;5;28;43;01myield from\u001b[39;49;00m\u001b[43m \u001b[49m\u001b[43moutput\u001b[49m\u001b[43m(\u001b[49m\u001b[43m)\u001b[49m\n\u001b[0;32m   1732\u001b[0m \u001b[38;5;66;03m# emit output\u001b[39;00m\n",
      "File \u001b[1;32mc:\\Users\\ganes\\DataScience\\Gen_AI\\LangChain\\Course_GenAI\\Gen_AI_In-Depth\\Projects\\multiagent_apoointment_doctor\\venv\\Lib\\site-packages\\langgraph\\pregel\\runner.py:230\u001b[0m, in \u001b[0;36mPregelRunner.tick\u001b[1;34m(self, tasks, reraise, timeout, retry_policy, get_waiter)\u001b[0m\n\u001b[0;32m    228\u001b[0m t \u001b[38;5;241m=\u001b[39m tasks[\u001b[38;5;241m0\u001b[39m]\n\u001b[0;32m    229\u001b[0m \u001b[38;5;28;01mtry\u001b[39;00m:\n\u001b[1;32m--> 230\u001b[0m     \u001b[43mrun_with_retry\u001b[49m\u001b[43m(\u001b[49m\n\u001b[0;32m    231\u001b[0m \u001b[43m        \u001b[49m\u001b[43mt\u001b[49m\u001b[43m,\u001b[49m\n\u001b[0;32m    232\u001b[0m \u001b[43m        \u001b[49m\u001b[43mretry_policy\u001b[49m\u001b[43m,\u001b[49m\n\u001b[0;32m    233\u001b[0m \u001b[43m        \u001b[49m\u001b[43mconfigurable\u001b[49m\u001b[38;5;241;43m=\u001b[39;49m\u001b[43m{\u001b[49m\n\u001b[0;32m    234\u001b[0m \u001b[43m            \u001b[49m\u001b[43mCONFIG_KEY_SEND\u001b[49m\u001b[43m:\u001b[49m\u001b[43m \u001b[49m\u001b[43mpartial\u001b[49m\u001b[43m(\u001b[49m\u001b[43mwriter\u001b[49m\u001b[43m,\u001b[49m\u001b[43m \u001b[49m\u001b[43mt\u001b[49m\u001b[43m)\u001b[49m\u001b[43m,\u001b[49m\n\u001b[0;32m    235\u001b[0m \u001b[43m            \u001b[49m\u001b[43mCONFIG_KEY_CALL\u001b[49m\u001b[43m:\u001b[49m\u001b[43m \u001b[49m\u001b[43mpartial\u001b[49m\u001b[43m(\u001b[49m\u001b[43mcall\u001b[49m\u001b[43m,\u001b[49m\u001b[43m \u001b[49m\u001b[43mt\u001b[49m\u001b[43m)\u001b[49m\u001b[43m,\u001b[49m\n\u001b[0;32m    236\u001b[0m \u001b[43m        \u001b[49m\u001b[43m}\u001b[49m\u001b[43m,\u001b[49m\n\u001b[0;32m    237\u001b[0m \u001b[43m    \u001b[49m\u001b[43m)\u001b[49m\n\u001b[0;32m    238\u001b[0m     \u001b[38;5;28mself\u001b[39m\u001b[38;5;241m.\u001b[39mcommit(t, \u001b[38;5;28;01mNone\u001b[39;00m)\n\u001b[0;32m    239\u001b[0m \u001b[38;5;28;01mexcept\u001b[39;00m \u001b[38;5;167;01mException\u001b[39;00m \u001b[38;5;28;01mas\u001b[39;00m exc:\n",
      "File \u001b[1;32mc:\\Users\\ganes\\DataScience\\Gen_AI\\LangChain\\Course_GenAI\\Gen_AI_In-Depth\\Projects\\multiagent_apoointment_doctor\\venv\\Lib\\site-packages\\langgraph\\pregel\\retry.py:40\u001b[0m, in \u001b[0;36mrun_with_retry\u001b[1;34m(task, retry_policy, configurable)\u001b[0m\n\u001b[0;32m     38\u001b[0m     task\u001b[38;5;241m.\u001b[39mwrites\u001b[38;5;241m.\u001b[39mclear()\n\u001b[0;32m     39\u001b[0m     \u001b[38;5;66;03m# run the task\u001b[39;00m\n\u001b[1;32m---> 40\u001b[0m     \u001b[38;5;28;01mreturn\u001b[39;00m \u001b[43mtask\u001b[49m\u001b[38;5;241;43m.\u001b[39;49m\u001b[43mproc\u001b[49m\u001b[38;5;241;43m.\u001b[39;49m\u001b[43minvoke\u001b[49m\u001b[43m(\u001b[49m\u001b[43mtask\u001b[49m\u001b[38;5;241;43m.\u001b[39;49m\u001b[43minput\u001b[49m\u001b[43m,\u001b[49m\u001b[43m \u001b[49m\u001b[43mconfig\u001b[49m\u001b[43m)\u001b[49m\n\u001b[0;32m     41\u001b[0m \u001b[38;5;28;01mexcept\u001b[39;00m ParentCommand \u001b[38;5;28;01mas\u001b[39;00m exc:\n\u001b[0;32m     42\u001b[0m     ns: \u001b[38;5;28mstr\u001b[39m \u001b[38;5;241m=\u001b[39m config[CONF][CONFIG_KEY_CHECKPOINT_NS]\n",
      "File \u001b[1;32mc:\\Users\\ganes\\DataScience\\Gen_AI\\LangChain\\Course_GenAI\\Gen_AI_In-Depth\\Projects\\multiagent_apoointment_doctor\\venv\\Lib\\site-packages\\langgraph\\utils\\runnable.py:506\u001b[0m, in \u001b[0;36mRunnableSeq.invoke\u001b[1;34m(self, input, config, **kwargs)\u001b[0m\n\u001b[0;32m    502\u001b[0m config \u001b[38;5;241m=\u001b[39m patch_config(\n\u001b[0;32m    503\u001b[0m     config, callbacks\u001b[38;5;241m=\u001b[39mrun_manager\u001b[38;5;241m.\u001b[39mget_child(\u001b[38;5;124mf\u001b[39m\u001b[38;5;124m\"\u001b[39m\u001b[38;5;124mseq:step:\u001b[39m\u001b[38;5;132;01m{\u001b[39;00mi\u001b[38;5;250m \u001b[39m\u001b[38;5;241m+\u001b[39m\u001b[38;5;250m \u001b[39m\u001b[38;5;241m1\u001b[39m\u001b[38;5;132;01m}\u001b[39;00m\u001b[38;5;124m\"\u001b[39m)\n\u001b[0;32m    504\u001b[0m )\n\u001b[0;32m    505\u001b[0m \u001b[38;5;28;01mif\u001b[39;00m i \u001b[38;5;241m==\u001b[39m \u001b[38;5;241m0\u001b[39m:\n\u001b[1;32m--> 506\u001b[0m     \u001b[38;5;28minput\u001b[39m \u001b[38;5;241m=\u001b[39m \u001b[43mstep\u001b[49m\u001b[38;5;241;43m.\u001b[39;49m\u001b[43minvoke\u001b[49m\u001b[43m(\u001b[49m\u001b[38;5;28;43minput\u001b[39;49m\u001b[43m,\u001b[49m\u001b[43m \u001b[49m\u001b[43mconfig\u001b[49m\u001b[43m,\u001b[49m\u001b[43m \u001b[49m\u001b[38;5;241;43m*\u001b[39;49m\u001b[38;5;241;43m*\u001b[39;49m\u001b[43mkwargs\u001b[49m\u001b[43m)\u001b[49m\n\u001b[0;32m    507\u001b[0m \u001b[38;5;28;01melse\u001b[39;00m:\n\u001b[0;32m    508\u001b[0m     \u001b[38;5;28minput\u001b[39m \u001b[38;5;241m=\u001b[39m step\u001b[38;5;241m.\u001b[39minvoke(\u001b[38;5;28minput\u001b[39m, config)\n",
      "File \u001b[1;32mc:\\Users\\ganes\\DataScience\\Gen_AI\\LangChain\\Course_GenAI\\Gen_AI_In-Depth\\Projects\\multiagent_apoointment_doctor\\venv\\Lib\\site-packages\\langgraph\\utils\\runnable.py:270\u001b[0m, in \u001b[0;36mRunnableCallable.invoke\u001b[1;34m(self, input, config, **kwargs)\u001b[0m\n\u001b[0;32m    268\u001b[0m \u001b[38;5;28;01melse\u001b[39;00m:\n\u001b[0;32m    269\u001b[0m     context\u001b[38;5;241m.\u001b[39mrun(_set_config_context, config)\n\u001b[1;32m--> 270\u001b[0m     ret \u001b[38;5;241m=\u001b[39m \u001b[43mcontext\u001b[49m\u001b[38;5;241;43m.\u001b[39;49m\u001b[43mrun\u001b[49m\u001b[43m(\u001b[49m\u001b[38;5;28;43mself\u001b[39;49m\u001b[38;5;241;43m.\u001b[39;49m\u001b[43mfunc\u001b[49m\u001b[43m,\u001b[49m\u001b[43m \u001b[49m\u001b[38;5;241;43m*\u001b[39;49m\u001b[43margs\u001b[49m\u001b[43m,\u001b[49m\u001b[43m \u001b[49m\u001b[38;5;241;43m*\u001b[39;49m\u001b[38;5;241;43m*\u001b[39;49m\u001b[43mkwargs\u001b[49m\u001b[43m)\u001b[49m\n\u001b[0;32m    271\u001b[0m \u001b[38;5;28;01mif\u001b[39;00m \u001b[38;5;28misinstance\u001b[39m(ret, Runnable) \u001b[38;5;129;01mand\u001b[39;00m \u001b[38;5;28mself\u001b[39m\u001b[38;5;241m.\u001b[39mrecurse:\n\u001b[0;32m    272\u001b[0m     \u001b[38;5;28;01mreturn\u001b[39;00m ret\u001b[38;5;241m.\u001b[39minvoke(\u001b[38;5;28minput\u001b[39m, config)\n",
      "Cell \u001b[1;32mIn[75], line 21\u001b[0m, in \u001b[0;36msupervisor_node\u001b[1;34m(state)\u001b[0m\n\u001b[0;32m     18\u001b[0m \u001b[38;5;28mprint\u001b[39m(query)\n\u001b[0;32m     20\u001b[0m \u001b[38;5;66;03m# response = openai_model.with_structured_output(Router).invoke(messages)\u001b[39;00m\n\u001b[1;32m---> 21\u001b[0m response \u001b[38;5;241m=\u001b[39m \u001b[43mollama_model\u001b[49m\u001b[38;5;241;43m.\u001b[39;49m\u001b[43mwith_structured_output\u001b[49m\u001b[43m(\u001b[49m\u001b[43mRouter\u001b[49m\u001b[43m)\u001b[49m\u001b[38;5;241m.\u001b[39minvoke(messages)\n\u001b[0;32m     22\u001b[0m goto \u001b[38;5;241m=\u001b[39m response[\u001b[38;5;124m\"\u001b[39m\u001b[38;5;124mnext\u001b[39m\u001b[38;5;124m\"\u001b[39m]\n\u001b[0;32m     24\u001b[0m \u001b[38;5;28mprint\u001b[39m(\u001b[38;5;124m\"\u001b[39m\u001b[38;5;124m************************ This is my goto ************************\u001b[39m\u001b[38;5;124m\"\u001b[39m)\n",
      "File \u001b[1;32mc:\\Users\\ganes\\DataScience\\Gen_AI\\LangChain\\Course_GenAI\\Gen_AI_In-Depth\\Projects\\multiagent_apoointment_doctor\\venv\\Lib\\site-packages\\langchain_core\\language_models\\chat_models.py:1399\u001b[0m, in \u001b[0;36mBaseChatModel.with_structured_output\u001b[1;34m(self, schema, include_raw, **kwargs)\u001b[0m\n\u001b[0;32m   1396\u001b[0m     msg \u001b[38;5;241m=\u001b[39m \u001b[38;5;124m\"\u001b[39m\u001b[38;5;124mwith_structured_output is not implemented for this model.\u001b[39m\u001b[38;5;124m\"\u001b[39m\n\u001b[0;32m   1397\u001b[0m     \u001b[38;5;28;01mraise\u001b[39;00m \u001b[38;5;167;01mNotImplementedError\u001b[39;00m(msg)\n\u001b[1;32m-> 1399\u001b[0m llm \u001b[38;5;241m=\u001b[39m \u001b[38;5;28;43mself\u001b[39;49m\u001b[38;5;241;43m.\u001b[39;49m\u001b[43mbind_tools\u001b[49m\u001b[43m(\u001b[49m\n\u001b[0;32m   1400\u001b[0m \u001b[43m    \u001b[49m\u001b[43m[\u001b[49m\u001b[43mschema\u001b[49m\u001b[43m]\u001b[49m\u001b[43m,\u001b[49m\n\u001b[0;32m   1401\u001b[0m \u001b[43m    \u001b[49m\u001b[43mtool_choice\u001b[49m\u001b[38;5;241;43m=\u001b[39;49m\u001b[38;5;124;43m\"\u001b[39;49m\u001b[38;5;124;43many\u001b[39;49m\u001b[38;5;124;43m\"\u001b[39;49m\u001b[43m,\u001b[49m\n\u001b[0;32m   1402\u001b[0m \u001b[43m    \u001b[49m\u001b[43mls_structured_output_format\u001b[49m\u001b[38;5;241;43m=\u001b[39;49m\u001b[43m{\u001b[49m\n\u001b[0;32m   1403\u001b[0m \u001b[43m        \u001b[49m\u001b[38;5;124;43m\"\u001b[39;49m\u001b[38;5;124;43mkwargs\u001b[39;49m\u001b[38;5;124;43m\"\u001b[39;49m\u001b[43m:\u001b[49m\u001b[43m \u001b[49m\u001b[43m{\u001b[49m\u001b[38;5;124;43m\"\u001b[39;49m\u001b[38;5;124;43mmethod\u001b[39;49m\u001b[38;5;124;43m\"\u001b[39;49m\u001b[43m:\u001b[49m\u001b[43m \u001b[49m\u001b[38;5;124;43m\"\u001b[39;49m\u001b[38;5;124;43mfunction_calling\u001b[39;49m\u001b[38;5;124;43m\"\u001b[39;49m\u001b[43m}\u001b[49m\u001b[43m,\u001b[49m\n\u001b[0;32m   1404\u001b[0m \u001b[43m        \u001b[49m\u001b[38;5;124;43m\"\u001b[39;49m\u001b[38;5;124;43mschema\u001b[39;49m\u001b[38;5;124;43m\"\u001b[39;49m\u001b[43m:\u001b[49m\u001b[43m \u001b[49m\u001b[43mschema\u001b[49m\u001b[43m,\u001b[49m\n\u001b[0;32m   1405\u001b[0m \u001b[43m    \u001b[49m\u001b[43m}\u001b[49m\u001b[43m,\u001b[49m\n\u001b[0;32m   1406\u001b[0m \u001b[43m\u001b[49m\u001b[43m)\u001b[49m\n\u001b[0;32m   1407\u001b[0m \u001b[38;5;28;01mif\u001b[39;00m \u001b[38;5;28misinstance\u001b[39m(schema, \u001b[38;5;28mtype\u001b[39m) \u001b[38;5;129;01mand\u001b[39;00m is_basemodel_subclass(schema):\n\u001b[0;32m   1408\u001b[0m     output_parser: OutputParserLike \u001b[38;5;241m=\u001b[39m PydanticToolsParser(\n\u001b[0;32m   1409\u001b[0m         tools\u001b[38;5;241m=\u001b[39m[cast(\u001b[38;5;124m\"\u001b[39m\u001b[38;5;124mTypeBaseModel\u001b[39m\u001b[38;5;124m\"\u001b[39m, schema)], first_tool_only\u001b[38;5;241m=\u001b[39m\u001b[38;5;28;01mTrue\u001b[39;00m\n\u001b[0;32m   1410\u001b[0m     )\n",
      "File \u001b[1;32mc:\\Users\\ganes\\DataScience\\Gen_AI\\LangChain\\Course_GenAI\\Gen_AI_In-Depth\\Projects\\multiagent_apoointment_doctor\\venv\\Lib\\site-packages\\langchain_core\\language_models\\chat_models.py:1273\u001b[0m, in \u001b[0;36mBaseChatModel.bind_tools\u001b[1;34m(self, tools, tool_choice, **kwargs)\u001b[0m\n\u001b[0;32m   1255\u001b[0m \u001b[38;5;28;01mdef\u001b[39;00m\u001b[38;5;250m \u001b[39m\u001b[38;5;21mbind_tools\u001b[39m(\n\u001b[0;32m   1256\u001b[0m     \u001b[38;5;28mself\u001b[39m,\n\u001b[0;32m   1257\u001b[0m     tools: Sequence[\n\u001b[1;32m   (...)\u001b[0m\n\u001b[0;32m   1262\u001b[0m     \u001b[38;5;241m*\u001b[39m\u001b[38;5;241m*\u001b[39mkwargs: Any,\n\u001b[0;32m   1263\u001b[0m ) \u001b[38;5;241m-\u001b[39m\u001b[38;5;241m>\u001b[39m Runnable[LanguageModelInput, BaseMessage]:\n\u001b[0;32m   1264\u001b[0m \u001b[38;5;250m    \u001b[39m\u001b[38;5;124;03m\"\"\"Bind tools to the model.\u001b[39;00m\n\u001b[0;32m   1265\u001b[0m \n\u001b[0;32m   1266\u001b[0m \u001b[38;5;124;03m    Args:\u001b[39;00m\n\u001b[1;32m   (...)\u001b[0m\n\u001b[0;32m   1271\u001b[0m \u001b[38;5;124;03m        A Runnable that returns a message.\u001b[39;00m\n\u001b[0;32m   1272\u001b[0m \u001b[38;5;124;03m    \"\"\"\u001b[39;00m\n\u001b[1;32m-> 1273\u001b[0m     \u001b[38;5;28;01mraise\u001b[39;00m \u001b[38;5;167;01mNotImplementedError\u001b[39;00m\n",
      "\u001b[1;31mNotImplementedError\u001b[0m: ",
      "\u001b[0mDuring task with name 'supervisor' and id '9946a642-4dc0-ef5f-bfe8-b68029b8db9b'"
     ]
    }
   ],
   "source": [
    "inputs = [\n",
    "        HumanMessage(content='can you check and make a booking if general dentist available on 8 August 2024 at 8 PM?')\n",
    "    ]\n",
    "state = {'messages': inputs,'id_number':10232303}\n",
    "result = app.invoke(state)\n",
    "result[\"messages\"][-1].content"
   ]
  },
  {
   "cell_type": "code",
   "execution_count": null,
   "id": "a6060c79",
   "metadata": {},
   "outputs": [],
   "source": []
  }
 ],
 "metadata": {
  "kernelspec": {
   "display_name": "venv",
   "language": "python",
   "name": "python3"
  },
  "language_info": {
   "codemirror_mode": {
    "name": "ipython",
    "version": 3
   },
   "file_extension": ".py",
   "mimetype": "text/x-python",
   "name": "python",
   "nbconvert_exporter": "python",
   "pygments_lexer": "ipython3",
   "version": "3.12.4"
  }
 },
 "nbformat": 4,
 "nbformat_minor": 5
}
